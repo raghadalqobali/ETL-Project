{
 "cells": [
  {
   "cell_type": "markdown",
   "metadata": {},
   "source": [
    "# Import software libraries"
   ]
  },
  {
   "cell_type": "code",
   "execution_count": 1,
   "metadata": {},
   "outputs": [
    {
     "name": "stdout",
     "output_type": "stream",
     "text": [
      "Libraries used in this project:\n",
      "- Python 3.7.6 | packaged by conda-forge | (default, Mar 23 2020, 23:03:20) \n",
      "[GCC 7.3.0]\n",
      "- pandas 1.1.3\n",
      "- sqlite3 3.30.1\n"
     ]
    }
   ],
   "source": [
    "# Import required libraries.\n",
    "import sys           # Read system parameters.\n",
    "import pandas as pd  # Manipulate and analyze data.\n",
    "import sqlite3       # Manage SQL databases.\n",
    "\n",
    "# Summarize software libraries used.\n",
    "print('Libraries used in this project:')\n",
    "print('- Python {}'.format(sys.version))\n",
    "print('- pandas {}'.format(pd.__version__))\n",
    "print('- sqlite3 {}'.format(sqlite3.sqlite_version))"
   ]
  },
  {
   "cell_type": "markdown",
   "metadata": {},
   "source": [
    "# Examine the database"
   ]
  },
  {
   "cell_type": "code",
   "execution_count": 7,
   "metadata": {},
   "outputs": [],
   "source": [
    "# Connect to SQLite database.\n",
    "\n",
    "conn = sqlite3.connect('/home/jovyan/work/Project/data/prod_sample.db')\n",
    "conn\n",
    "# Create a cursor object\n",
    "cursor = conn.cursor()"
   ]
  },
  {
   "cell_type": "code",
   "execution_count": 8,
   "metadata": {},
   "outputs": [
    {
     "name": "stdout",
     "output_type": "stream",
     "text": [
      "Tables in the database:\n",
      "stock_description\n",
      "online_retail_history\n"
     ]
    }
   ],
   "source": [
    "# List all the tables in the database.\n",
    "cursor.execute(\"SELECT name FROM sqlite_master WHERE type='table';\")\n",
    "\n",
    "# Fetch all results\n",
    "tables = cursor.fetchall()\n",
    "\n",
    "# Print the list of table names\n",
    "print(\"Tables in the database:\")\n",
    "for table in tables:\n",
    "    print(table[0])\n"
   ]
  },
  {
   "cell_type": "markdown",
   "metadata": {},
   "source": [
    "# Read data from the `online_retail_history` table"
   ]
  },
  {
   "cell_type": "code",
   "execution_count": 9,
   "metadata": {},
   "outputs": [
    {
     "data": {
      "text/html": [
       "<div>\n",
       "<style scoped>\n",
       "    .dataframe tbody tr th:only-of-type {\n",
       "        vertical-align: middle;\n",
       "    }\n",
       "\n",
       "    .dataframe tbody tr th {\n",
       "        vertical-align: top;\n",
       "    }\n",
       "\n",
       "    .dataframe thead th {\n",
       "        text-align: right;\n",
       "    }\n",
       "</style>\n",
       "<table border=\"1\" class=\"dataframe\">\n",
       "  <thead>\n",
       "    <tr style=\"text-align: right;\">\n",
       "      <th></th>\n",
       "      <th>Invoice</th>\n",
       "      <th>StockCode</th>\n",
       "      <th>Quantity</th>\n",
       "      <th>InvoiceDate</th>\n",
       "      <th>Price</th>\n",
       "      <th>CustomerID</th>\n",
       "      <th>Country</th>\n",
       "      <th>TotalAmount</th>\n",
       "    </tr>\n",
       "  </thead>\n",
       "  <tbody>\n",
       "    <tr>\n",
       "      <th>0</th>\n",
       "      <td>536365</td>\n",
       "      <td>85123A</td>\n",
       "      <td>6</td>\n",
       "      <td>2010-12-01 08:26:00</td>\n",
       "      <td>2.55</td>\n",
       "      <td>u1785</td>\n",
       "      <td>United Kingdom</td>\n",
       "      <td>15.30</td>\n",
       "    </tr>\n",
       "    <tr>\n",
       "      <th>1</th>\n",
       "      <td>536367</td>\n",
       "      <td>84879</td>\n",
       "      <td>32</td>\n",
       "      <td>2010-12-01 08:34:00</td>\n",
       "      <td>1.69</td>\n",
       "      <td>u13047</td>\n",
       "      <td>United Kingdom</td>\n",
       "      <td>54.08</td>\n",
       "    </tr>\n",
       "    <tr>\n",
       "      <th>2</th>\n",
       "      <td>536373</td>\n",
       "      <td>85123A</td>\n",
       "      <td>6</td>\n",
       "      <td>2010-12-01 09:02:00</td>\n",
       "      <td>2.55</td>\n",
       "      <td>u1785</td>\n",
       "      <td>United Kingdom</td>\n",
       "      <td>15.30</td>\n",
       "    </tr>\n",
       "    <tr>\n",
       "      <th>3</th>\n",
       "      <td>536375</td>\n",
       "      <td>85123A</td>\n",
       "      <td>6</td>\n",
       "      <td>2010-12-01 09:32:00</td>\n",
       "      <td>2.55</td>\n",
       "      <td>u1785</td>\n",
       "      <td>United Kingdom</td>\n",
       "      <td>15.30</td>\n",
       "    </tr>\n",
       "    <tr>\n",
       "      <th>4</th>\n",
       "      <td>536378</td>\n",
       "      <td>20725</td>\n",
       "      <td>10</td>\n",
       "      <td>2010-12-01 09:37:00</td>\n",
       "      <td>1.65</td>\n",
       "      <td>u14688</td>\n",
       "      <td>United Kingdom</td>\n",
       "      <td>16.50</td>\n",
       "    </tr>\n",
       "  </tbody>\n",
       "</table>\n",
       "</div>"
      ],
      "text/plain": [
       "  Invoice StockCode  Quantity          InvoiceDate  Price CustomerID  \\\n",
       "0  536365    85123A         6  2010-12-01 08:26:00   2.55      u1785   \n",
       "1  536367     84879        32  2010-12-01 08:34:00   1.69     u13047   \n",
       "2  536373    85123A         6  2010-12-01 09:02:00   2.55      u1785   \n",
       "3  536375    85123A         6  2010-12-01 09:32:00   2.55      u1785   \n",
       "4  536378     20725        10  2010-12-01 09:37:00   1.65     u14688   \n",
       "\n",
       "          Country  TotalAmount  \n",
       "0  United Kingdom        15.30  \n",
       "1  United Kingdom        54.08  \n",
       "2  United Kingdom        15.30  \n",
       "3  United Kingdom        15.30  \n",
       "4  United Kingdom        16.50  "
      ]
     },
     "execution_count": 9,
     "metadata": {},
     "output_type": "execute_result"
    }
   ],
   "source": [
    "# Write the query to be executed that selects everything from the online_retail_history table.\n",
    "\n",
    "query = 'SELECT* FROM online_retail_history'\n",
    "\n",
    "# Use the read_sql function in pandas to read a query into a DataFrame.\n",
    "\n",
    "online_retail_history = pd.read_sql(query, conn)\n",
    "\n",
    "# Preview the first five rows of the data.\n",
    "online_retail_history.head(n=5)\n"
   ]
  },
  {
   "cell_type": "code",
   "execution_count": 10,
   "metadata": {},
   "outputs": [
    {
     "data": {
      "text/plain": [
       "(15321, 8)"
      ]
     },
     "execution_count": 10,
     "metadata": {},
     "output_type": "execute_result"
    }
   ],
   "source": [
    "# Get the shape of the data.\n",
    "\n",
    "online_retail_history.shape"
   ]
  },
  {
   "cell_type": "markdown",
   "metadata": {},
   "source": [
    "# Read data from the `stock_description` table"
   ]
  },
  {
   "cell_type": "code",
   "execution_count": 11,
   "metadata": {},
   "outputs": [
    {
     "data": {
      "text/html": [
       "<div>\n",
       "<style scoped>\n",
       "    .dataframe tbody tr th:only-of-type {\n",
       "        vertical-align: middle;\n",
       "    }\n",
       "\n",
       "    .dataframe tbody tr th {\n",
       "        vertical-align: top;\n",
       "    }\n",
       "\n",
       "    .dataframe thead th {\n",
       "        text-align: right;\n",
       "    }\n",
       "</style>\n",
       "<table border=\"1\" class=\"dataframe\">\n",
       "  <thead>\n",
       "    <tr style=\"text-align: right;\">\n",
       "      <th></th>\n",
       "      <th>StockCode</th>\n",
       "      <th>Description</th>\n",
       "    </tr>\n",
       "  </thead>\n",
       "  <tbody>\n",
       "    <tr>\n",
       "      <th>0</th>\n",
       "      <td>10002</td>\n",
       "      <td>INFLATABLE POLITICAL GLOBE</td>\n",
       "    </tr>\n",
       "    <tr>\n",
       "      <th>1</th>\n",
       "      <td>10080</td>\n",
       "      <td>GROOVY CACTUS INFLATABLE</td>\n",
       "    </tr>\n",
       "    <tr>\n",
       "      <th>2</th>\n",
       "      <td>10120</td>\n",
       "      <td>DOGGY RUBBER</td>\n",
       "    </tr>\n",
       "  </tbody>\n",
       "</table>\n",
       "</div>"
      ],
      "text/plain": [
       "  StockCode                  Description\n",
       "0     10002  INFLATABLE POLITICAL GLOBE \n",
       "1     10080     GROOVY CACTUS INFLATABLE\n",
       "2     10120                 DOGGY RUBBER"
      ]
     },
     "execution_count": 11,
     "metadata": {},
     "output_type": "execute_result"
    }
   ],
   "source": [
    "# Write the query to be executed that selects everything from the online_retail_history table.\n",
    "query = 'SELECT* FROM stock_description'\n",
    "\n",
    "\n",
    "# Use the read_sql function in pandas to read a query into a DataFrame.\n",
    "stock_description = pd.read_sql(query, conn)\n",
    "\n",
    "# Preview the first five rows of the data.\n",
    "\n",
    "stock_description.head(n=3)"
   ]
  },
  {
   "cell_type": "code",
   "execution_count": 12,
   "metadata": {},
   "outputs": [
    {
     "data": {
      "text/plain": [
       "(3952, 2)"
      ]
     },
     "execution_count": 12,
     "metadata": {},
     "output_type": "execute_result"
    }
   ],
   "source": [
    "# Get the shape of the data.\n",
    "\n",
    "stock_description.shape"
   ]
  },
  {
   "cell_type": "markdown",
   "metadata": {},
   "source": [
    "# Aggregate the `online_retail_history` and `stock_description` datasets"
   ]
  },
  {
   "cell_type": "code",
   "execution_count": 13,
   "metadata": {},
   "outputs": [
    {
     "data": {
      "text/html": [
       "<div>\n",
       "<style scoped>\n",
       "    .dataframe tbody tr th:only-of-type {\n",
       "        vertical-align: middle;\n",
       "    }\n",
       "\n",
       "    .dataframe tbody tr th {\n",
       "        vertical-align: top;\n",
       "    }\n",
       "\n",
       "    .dataframe thead th {\n",
       "        text-align: right;\n",
       "    }\n",
       "</style>\n",
       "<table border=\"1\" class=\"dataframe\">\n",
       "  <thead>\n",
       "    <tr style=\"text-align: right;\">\n",
       "      <th></th>\n",
       "      <th>Invoice</th>\n",
       "      <th>StockCode</th>\n",
       "      <th>Quantity</th>\n",
       "      <th>InvoiceDate</th>\n",
       "      <th>Price</th>\n",
       "      <th>CustomerID</th>\n",
       "      <th>Country</th>\n",
       "      <th>TotalAmount</th>\n",
       "      <th>StockCode</th>\n",
       "      <th>Description</th>\n",
       "    </tr>\n",
       "  </thead>\n",
       "  <tbody>\n",
       "    <tr>\n",
       "      <th>0</th>\n",
       "      <td>536365</td>\n",
       "      <td>85123A</td>\n",
       "      <td>6</td>\n",
       "      <td>2010-12-01 08:26:00</td>\n",
       "      <td>2.55</td>\n",
       "      <td>u1785</td>\n",
       "      <td>United Kingdom</td>\n",
       "      <td>15.30</td>\n",
       "      <td>85123A</td>\n",
       "      <td>CREAM HANGING HEART T-LIGHT HOLDER</td>\n",
       "    </tr>\n",
       "    <tr>\n",
       "      <th>1</th>\n",
       "      <td>536367</td>\n",
       "      <td>84879</td>\n",
       "      <td>32</td>\n",
       "      <td>2010-12-01 08:34:00</td>\n",
       "      <td>1.69</td>\n",
       "      <td>u13047</td>\n",
       "      <td>United Kingdom</td>\n",
       "      <td>54.08</td>\n",
       "      <td>84879</td>\n",
       "      <td>ASSORTED COLOUR BIRD ORNAMENT</td>\n",
       "    </tr>\n",
       "    <tr>\n",
       "      <th>2</th>\n",
       "      <td>536373</td>\n",
       "      <td>85123A</td>\n",
       "      <td>6</td>\n",
       "      <td>2010-12-01 09:02:00</td>\n",
       "      <td>2.55</td>\n",
       "      <td>u1785</td>\n",
       "      <td>United Kingdom</td>\n",
       "      <td>15.30</td>\n",
       "      <td>85123A</td>\n",
       "      <td>CREAM HANGING HEART T-LIGHT HOLDER</td>\n",
       "    </tr>\n",
       "    <tr>\n",
       "      <th>3</th>\n",
       "      <td>536375</td>\n",
       "      <td>85123A</td>\n",
       "      <td>6</td>\n",
       "      <td>2010-12-01 09:32:00</td>\n",
       "      <td>2.55</td>\n",
       "      <td>u1785</td>\n",
       "      <td>United Kingdom</td>\n",
       "      <td>15.30</td>\n",
       "      <td>85123A</td>\n",
       "      <td>CREAM HANGING HEART T-LIGHT HOLDER</td>\n",
       "    </tr>\n",
       "    <tr>\n",
       "      <th>4</th>\n",
       "      <td>536378</td>\n",
       "      <td>20725</td>\n",
       "      <td>10</td>\n",
       "      <td>2010-12-01 09:37:00</td>\n",
       "      <td>1.65</td>\n",
       "      <td>u14688</td>\n",
       "      <td>United Kingdom</td>\n",
       "      <td>16.50</td>\n",
       "      <td>20725</td>\n",
       "      <td>LUNCH BAG RED RETROSPOT</td>\n",
       "    </tr>\n",
       "  </tbody>\n",
       "</table>\n",
       "</div>"
      ],
      "text/plain": [
       "  Invoice StockCode  Quantity          InvoiceDate  Price CustomerID  \\\n",
       "0  536365    85123A         6  2010-12-01 08:26:00   2.55      u1785   \n",
       "1  536367     84879        32  2010-12-01 08:34:00   1.69     u13047   \n",
       "2  536373    85123A         6  2010-12-01 09:02:00   2.55      u1785   \n",
       "3  536375    85123A         6  2010-12-01 09:32:00   2.55      u1785   \n",
       "4  536378     20725        10  2010-12-01 09:37:00   1.65     u14688   \n",
       "\n",
       "          Country  TotalAmount StockCode                         Description  \n",
       "0  United Kingdom        15.30    85123A  CREAM HANGING HEART T-LIGHT HOLDER  \n",
       "1  United Kingdom        54.08     84879       ASSORTED COLOUR BIRD ORNAMENT  \n",
       "2  United Kingdom        15.30    85123A  CREAM HANGING HEART T-LIGHT HOLDER  \n",
       "3  United Kingdom        15.30    85123A  CREAM HANGING HEART T-LIGHT HOLDER  \n",
       "4  United Kingdom        16.50     20725             LUNCH BAG RED RETROSPOT  "
      ]
     },
     "execution_count": 13,
     "metadata": {},
     "output_type": "execute_result"
    }
   ],
   "source": [
    "# Write a query to aggregate the two datasets so that you have the stock descriptions as well as the stock code.\n",
    "\n",
    "query = '''SELECT*\n",
    "         FROM online_retail_history\n",
    "         JOIN stock_description ON online_retail_history.StockCode = stock_description.StockCode'''\n",
    "\n",
    "\n",
    "\n",
    "\n",
    "# Use the read_sql function in pandas to read a query into a DataFrame.\n",
    "\n",
    "agg = pd.read_sql(query, conn)\n",
    "\n",
    "\n",
    "\n",
    "# Preview the first five rows of the data.\n",
    "\n",
    "agg.head()"
   ]
  },
  {
   "cell_type": "code",
   "execution_count": 14,
   "metadata": {},
   "outputs": [
    {
     "data": {
      "text/plain": [
       "(17032, 10)"
      ]
     },
     "execution_count": 14,
     "metadata": {},
     "output_type": "execute_result"
    }
   ],
   "source": [
    "# Get the shape of the data.\n",
    "\n",
    "agg.shape"
   ]
  },
  {
   "cell_type": "markdown",
   "metadata": {},
   "source": [
    "# Identify and fix corrupt or unusable data"
   ]
  },
  {
   "cell_type": "code",
   "execution_count": 17,
   "metadata": {},
   "outputs": [
    {
     "data": {
      "text/plain": [
       "CREAM HANGING HEART T-LIGHT HOLDER    2174\n",
       "JUMBO BAG RED RETROSPOT               1960\n",
       "REGENCY CAKESTAND 3 TIER              1711\n",
       "?                                     1711\n",
       "PARTY BUNTING                         1615\n",
       "LUNCH BAG RED RETROSPOT               1421\n",
       "ASSORTED COLOUR BIRD ORNAMENT         1405\n",
       "POPCORN HOLDER                        1329\n",
       "LUNCH BAG  BLACK SKULL.               1271\n",
       "SET OF 3 CAKE TINS PANTRY DESIGN      1257\n",
       "PACK OF 72 RETROSPOT CAKE CASES       1178\n",
       "Name: Description, dtype: int64"
      ]
     },
     "execution_count": 17,
     "metadata": {},
     "output_type": "execute_result"
    }
   ],
   "source": [
    "# Check the value counts of the \"Description\" field.\n",
    "agg.Description.value_counts()\n"
   ]
  },
  {
   "cell_type": "code",
   "execution_count": 21,
   "metadata": {},
   "outputs": [
    {
     "data": {
      "text/html": [
       "<div>\n",
       "<style scoped>\n",
       "    .dataframe tbody tr th:only-of-type {\n",
       "        vertical-align: middle;\n",
       "    }\n",
       "\n",
       "    .dataframe tbody tr th {\n",
       "        vertical-align: top;\n",
       "    }\n",
       "\n",
       "    .dataframe thead th {\n",
       "        text-align: right;\n",
       "    }\n",
       "</style>\n",
       "<table border=\"1\" class=\"dataframe\">\n",
       "  <thead>\n",
       "    <tr style=\"text-align: right;\">\n",
       "      <th></th>\n",
       "      <th>Invoice</th>\n",
       "      <th>StockCode</th>\n",
       "      <th>Quantity</th>\n",
       "      <th>InvoiceDate</th>\n",
       "      <th>Price</th>\n",
       "      <th>CustomerID</th>\n",
       "      <th>Country</th>\n",
       "      <th>TotalAmount</th>\n",
       "      <th>StockCode</th>\n",
       "      <th>Description</th>\n",
       "    </tr>\n",
       "  </thead>\n",
       "  <tbody>\n",
       "    <tr>\n",
       "      <th>0</th>\n",
       "      <td>536365</td>\n",
       "      <td>85123A</td>\n",
       "      <td>6</td>\n",
       "      <td>2010-12-01 08:26:00</td>\n",
       "      <td>2.55</td>\n",
       "      <td>u1785</td>\n",
       "      <td>United Kingdom</td>\n",
       "      <td>15.30</td>\n",
       "      <td>85123A</td>\n",
       "      <td>CREAM HANGING HEART T-LIGHT HOLDER</td>\n",
       "    </tr>\n",
       "    <tr>\n",
       "      <th>1</th>\n",
       "      <td>536367</td>\n",
       "      <td>84879</td>\n",
       "      <td>32</td>\n",
       "      <td>2010-12-01 08:34:00</td>\n",
       "      <td>1.69</td>\n",
       "      <td>u13047</td>\n",
       "      <td>United Kingdom</td>\n",
       "      <td>54.08</td>\n",
       "      <td>84879</td>\n",
       "      <td>ASSORTED COLOUR BIRD ORNAMENT</td>\n",
       "    </tr>\n",
       "    <tr>\n",
       "      <th>2</th>\n",
       "      <td>536373</td>\n",
       "      <td>85123A</td>\n",
       "      <td>6</td>\n",
       "      <td>2010-12-01 09:02:00</td>\n",
       "      <td>2.55</td>\n",
       "      <td>u1785</td>\n",
       "      <td>United Kingdom</td>\n",
       "      <td>15.30</td>\n",
       "      <td>85123A</td>\n",
       "      <td>CREAM HANGING HEART T-LIGHT HOLDER</td>\n",
       "    </tr>\n",
       "    <tr>\n",
       "      <th>3</th>\n",
       "      <td>536375</td>\n",
       "      <td>85123A</td>\n",
       "      <td>6</td>\n",
       "      <td>2010-12-01 09:32:00</td>\n",
       "      <td>2.55</td>\n",
       "      <td>u1785</td>\n",
       "      <td>United Kingdom</td>\n",
       "      <td>15.30</td>\n",
       "      <td>85123A</td>\n",
       "      <td>CREAM HANGING HEART T-LIGHT HOLDER</td>\n",
       "    </tr>\n",
       "    <tr>\n",
       "      <th>4</th>\n",
       "      <td>536378</td>\n",
       "      <td>20725</td>\n",
       "      <td>10</td>\n",
       "      <td>2010-12-01 09:37:00</td>\n",
       "      <td>1.65</td>\n",
       "      <td>u14688</td>\n",
       "      <td>United Kingdom</td>\n",
       "      <td>16.50</td>\n",
       "      <td>20725</td>\n",
       "      <td>LUNCH BAG RED RETROSPOT</td>\n",
       "    </tr>\n",
       "  </tbody>\n",
       "</table>\n",
       "</div>"
      ],
      "text/plain": [
       "  Invoice StockCode  Quantity          InvoiceDate  Price CustomerID  \\\n",
       "0  536365    85123A         6  2010-12-01 08:26:00   2.55      u1785   \n",
       "1  536367     84879        32  2010-12-01 08:34:00   1.69     u13047   \n",
       "2  536373    85123A         6  2010-12-01 09:02:00   2.55      u1785   \n",
       "3  536375    85123A         6  2010-12-01 09:32:00   2.55      u1785   \n",
       "4  536378     20725        10  2010-12-01 09:37:00   1.65     u14688   \n",
       "\n",
       "          Country  TotalAmount StockCode                         Description  \n",
       "0  United Kingdom        15.30    85123A  CREAM HANGING HEART T-LIGHT HOLDER  \n",
       "1  United Kingdom        54.08     84879       ASSORTED COLOUR BIRD ORNAMENT  \n",
       "2  United Kingdom        15.30    85123A  CREAM HANGING HEART T-LIGHT HOLDER  \n",
       "3  United Kingdom        15.30    85123A  CREAM HANGING HEART T-LIGHT HOLDER  \n",
       "4  United Kingdom        16.50     20725             LUNCH BAG RED RETROSPOT  "
      ]
     },
     "execution_count": 21,
     "metadata": {},
     "output_type": "execute_result"
    }
   ],
   "source": [
    "# Remove rows where \"Description\" is just a question mark (?).\n",
    "\n",
    "filtered_df = agg[agg['Description'] != '?']\n",
    "\n",
    "\n",
    "# Preview the first five rows of the data.\n",
    "filtered_df.head()\n"
   ]
  },
  {
   "cell_type": "markdown",
   "metadata": {},
   "source": [
    "# Identify and remove duplicates"
   ]
  },
  {
   "cell_type": "code",
   "execution_count": 22,
   "metadata": {},
   "outputs": [],
   "source": [
    "# Identify all duplicated data.\n",
    "\n",
    "duplicates = filtered_df[filtered_df.duplicated()]\n",
    "\n"
   ]
  },
  {
   "cell_type": "code",
   "execution_count": 23,
   "metadata": {},
   "outputs": [
    {
     "name": "stdout",
     "output_type": "stream",
     "text": [
      "Duplicated data:\n",
      "      Invoice StockCode  Quantity          InvoiceDate  Price CustomerID  \\\n",
      "178    536863     20727         1  2010-12-03 11:19:00   1.65     u17967   \n",
      "497    537781     84879         8  2010-12-08 12:46:00   1.69     u17341   \n",
      "571    537955     20725         1  2010-12-09 11:28:00   1.65     u16782   \n",
      "935    539092     22423        16  2010-12-16 10:08:00  10.95     u15482   \n",
      "1068   539475     22197         1  2010-12-19 14:41:00   0.85     u16686   \n",
      "...       ...       ...       ...                  ...    ...        ...   \n",
      "16542  580048     20727         1  2011-12-01 12:53:00   1.65     u12748   \n",
      "16671  580469     20727         2  2011-12-04 12:32:00   1.65     u14583   \n",
      "16673  580469     20727         1  2011-12-04 12:32:00   1.65     u14583   \n",
      "16716  580611     20727         1  2011-12-05 11:49:00   1.65     u12748   \n",
      "16996  581449     22423         1  2011-12-08 17:37:00  12.75     u12748   \n",
      "\n",
      "              Country  TotalAmount StockCode                    Description  \n",
      "178    United Kingdom         1.65     20727        LUNCH BAG  BLACK SKULL.  \n",
      "497    United Kingdom        13.52     84879  ASSORTED COLOUR BIRD ORNAMENT  \n",
      "571    United Kingdom         1.65     20725        LUNCH BAG RED RETROSPOT  \n",
      "935    United Kingdom       175.20     22423       REGENCY CAKESTAND 3 TIER  \n",
      "1068   United Kingdom         0.85     22197                 POPCORN HOLDER  \n",
      "...               ...          ...       ...                            ...  \n",
      "16542  United Kingdom         1.65     20727        LUNCH BAG  BLACK SKULL.  \n",
      "16671  United Kingdom         3.30     20727        LUNCH BAG  BLACK SKULL.  \n",
      "16673  United Kingdom         1.65     20727        LUNCH BAG  BLACK SKULL.  \n",
      "16716  United Kingdom         1.65     20727        LUNCH BAG  BLACK SKULL.  \n",
      "16996  United Kingdom        12.75     22423       REGENCY CAKESTAND 3 TIER  \n",
      "\n",
      "[115 rows x 10 columns]\n"
     ]
    }
   ],
   "source": [
    "# Print the duplicated data.\n",
    "\n",
    "print(\"Duplicated data:\")\n",
    "print(duplicates)"
   ]
  },
  {
   "cell_type": "code",
   "execution_count": 26,
   "metadata": {},
   "outputs": [
    {
     "data": {
      "text/html": [
       "<div>\n",
       "<style scoped>\n",
       "    .dataframe tbody tr th:only-of-type {\n",
       "        vertical-align: middle;\n",
       "    }\n",
       "\n",
       "    .dataframe tbody tr th {\n",
       "        vertical-align: top;\n",
       "    }\n",
       "\n",
       "    .dataframe thead th {\n",
       "        text-align: right;\n",
       "    }\n",
       "</style>\n",
       "<table border=\"1\" class=\"dataframe\">\n",
       "  <thead>\n",
       "    <tr style=\"text-align: right;\">\n",
       "      <th></th>\n",
       "      <th>Invoice</th>\n",
       "      <th>StockCode</th>\n",
       "      <th>Quantity</th>\n",
       "      <th>InvoiceDate</th>\n",
       "      <th>Price</th>\n",
       "      <th>CustomerID</th>\n",
       "      <th>Country</th>\n",
       "      <th>TotalAmount</th>\n",
       "      <th>StockCode</th>\n",
       "      <th>Description</th>\n",
       "    </tr>\n",
       "  </thead>\n",
       "  <tbody>\n",
       "    <tr>\n",
       "      <th>0</th>\n",
       "      <td>536365</td>\n",
       "      <td>85123A</td>\n",
       "      <td>6</td>\n",
       "      <td>2010-12-01 08:26:00</td>\n",
       "      <td>2.55</td>\n",
       "      <td>u1785</td>\n",
       "      <td>United Kingdom</td>\n",
       "      <td>15.30</td>\n",
       "      <td>85123A</td>\n",
       "      <td>CREAM HANGING HEART T-LIGHT HOLDER</td>\n",
       "    </tr>\n",
       "    <tr>\n",
       "      <th>1</th>\n",
       "      <td>536367</td>\n",
       "      <td>84879</td>\n",
       "      <td>32</td>\n",
       "      <td>2010-12-01 08:34:00</td>\n",
       "      <td>1.69</td>\n",
       "      <td>u13047</td>\n",
       "      <td>United Kingdom</td>\n",
       "      <td>54.08</td>\n",
       "      <td>84879</td>\n",
       "      <td>ASSORTED COLOUR BIRD ORNAMENT</td>\n",
       "    </tr>\n",
       "    <tr>\n",
       "      <th>2</th>\n",
       "      <td>536373</td>\n",
       "      <td>85123A</td>\n",
       "      <td>6</td>\n",
       "      <td>2010-12-01 09:02:00</td>\n",
       "      <td>2.55</td>\n",
       "      <td>u1785</td>\n",
       "      <td>United Kingdom</td>\n",
       "      <td>15.30</td>\n",
       "      <td>85123A</td>\n",
       "      <td>CREAM HANGING HEART T-LIGHT HOLDER</td>\n",
       "    </tr>\n",
       "    <tr>\n",
       "      <th>3</th>\n",
       "      <td>536375</td>\n",
       "      <td>85123A</td>\n",
       "      <td>6</td>\n",
       "      <td>2010-12-01 09:32:00</td>\n",
       "      <td>2.55</td>\n",
       "      <td>u1785</td>\n",
       "      <td>United Kingdom</td>\n",
       "      <td>15.30</td>\n",
       "      <td>85123A</td>\n",
       "      <td>CREAM HANGING HEART T-LIGHT HOLDER</td>\n",
       "    </tr>\n",
       "    <tr>\n",
       "      <th>4</th>\n",
       "      <td>536378</td>\n",
       "      <td>20725</td>\n",
       "      <td>10</td>\n",
       "      <td>2010-12-01 09:37:00</td>\n",
       "      <td>1.65</td>\n",
       "      <td>u14688</td>\n",
       "      <td>United Kingdom</td>\n",
       "      <td>16.50</td>\n",
       "      <td>20725</td>\n",
       "      <td>LUNCH BAG RED RETROSPOT</td>\n",
       "    </tr>\n",
       "  </tbody>\n",
       "</table>\n",
       "</div>"
      ],
      "text/plain": [
       "  Invoice StockCode  Quantity          InvoiceDate  Price CustomerID  \\\n",
       "0  536365    85123A         6  2010-12-01 08:26:00   2.55      u1785   \n",
       "1  536367     84879        32  2010-12-01 08:34:00   1.69     u13047   \n",
       "2  536373    85123A         6  2010-12-01 09:02:00   2.55      u1785   \n",
       "3  536375    85123A         6  2010-12-01 09:32:00   2.55      u1785   \n",
       "4  536378     20725        10  2010-12-01 09:37:00   1.65     u14688   \n",
       "\n",
       "          Country  TotalAmount StockCode                         Description  \n",
       "0  United Kingdom        15.30    85123A  CREAM HANGING HEART T-LIGHT HOLDER  \n",
       "1  United Kingdom        54.08     84879       ASSORTED COLOUR BIRD ORNAMENT  \n",
       "2  United Kingdom        15.30    85123A  CREAM HANGING HEART T-LIGHT HOLDER  \n",
       "3  United Kingdom        15.30    85123A  CREAM HANGING HEART T-LIGHT HOLDER  \n",
       "4  United Kingdom        16.50     20725             LUNCH BAG RED RETROSPOT  "
      ]
     },
     "execution_count": 26,
     "metadata": {},
     "output_type": "execute_result"
    }
   ],
   "source": [
    "# Remove the duplicated data.\n",
    "df_without_duplicates = filtered_df.drop_duplicates()\n",
    "\n",
    "\n",
    "\n",
    "\n",
    "# Preview the first five rows of the data.\n",
    "df_without_duplicates.head()"
   ]
  },
  {
   "cell_type": "markdown",
   "metadata": {},
   "source": [
    "# Correct date formats"
   ]
  },
  {
   "cell_type": "code",
   "execution_count": 31,
   "metadata": {},
   "outputs": [
    {
     "name": "stdout",
     "output_type": "stream",
     "text": [
      "<class 'pandas.core.frame.DataFrame'>\n",
      "Int64Index: 15206 entries, 0 to 17031\n",
      "Data columns (total 10 columns):\n",
      " #   Column       Non-Null Count  Dtype  \n",
      "---  ------       --------------  -----  \n",
      " 0   Invoice      15206 non-null  object \n",
      " 1   StockCode    15206 non-null  object \n",
      " 2   Quantity     15206 non-null  int64  \n",
      " 3   InvoiceDate  15206 non-null  object \n",
      " 4   Price        15194 non-null  float64\n",
      " 5   CustomerID   12435 non-null  object \n",
      " 6   Country      15206 non-null  object \n",
      " 7   TotalAmount  15194 non-null  float64\n",
      " 8   StockCode    15206 non-null  object \n",
      " 9   Description  15206 non-null  object \n",
      "dtypes: float64(2), int64(1), object(7)\n",
      "memory usage: 1.3+ MB\n"
     ]
    }
   ],
   "source": [
    "# Get the data types for every column in the DataFrame.\n",
    "df_without_duplicates.info()\n"
   ]
  },
  {
   "cell_type": "code",
   "execution_count": 32,
   "metadata": {},
   "outputs": [],
   "source": [
    "# Convert \"InvoiceDate\" to a \"%Y-%m-%d\" datetime format.\n",
    "df_without_duplicates['InvoiceDate']= pd.to_datetime(df_without_duplicates['InvoiceDate'],format ='%Y-%m-%d')\n",
    "\n"
   ]
  },
  {
   "cell_type": "code",
   "execution_count": 33,
   "metadata": {},
   "outputs": [
    {
     "name": "stdout",
     "output_type": "stream",
     "text": [
      "<class 'pandas.core.frame.DataFrame'>\n",
      "Int64Index: 15206 entries, 0 to 17031\n",
      "Data columns (total 10 columns):\n",
      " #   Column       Non-Null Count  Dtype         \n",
      "---  ------       --------------  -----         \n",
      " 0   Invoice      15206 non-null  object        \n",
      " 1   StockCode    15206 non-null  object        \n",
      " 2   Quantity     15206 non-null  int64         \n",
      " 3   InvoiceDate  15206 non-null  datetime64[ns]\n",
      " 4   Price        15194 non-null  float64       \n",
      " 5   CustomerID   12435 non-null  object        \n",
      " 6   Country      15206 non-null  object        \n",
      " 7   TotalAmount  15194 non-null  float64       \n",
      " 8   StockCode    15206 non-null  object        \n",
      " 9   Description  15206 non-null  object        \n",
      "dtypes: datetime64[ns](1), float64(2), int64(1), object(6)\n",
      "memory usage: 1.3+ MB\n"
     ]
    }
   ],
   "source": [
    "# Get the data types for every column in the converted DataFrame.\n",
    "df_without_duplicates.info()\n"
   ]
  },
  {
   "cell_type": "markdown",
   "metadata": {},
   "source": [
    "# Examine the table before finishing"
   ]
  },
  {
   "cell_type": "code",
   "execution_count": 34,
   "metadata": {},
   "outputs": [
    {
     "data": {
      "text/html": [
       "<div>\n",
       "<style scoped>\n",
       "    .dataframe tbody tr th:only-of-type {\n",
       "        vertical-align: middle;\n",
       "    }\n",
       "\n",
       "    .dataframe tbody tr th {\n",
       "        vertical-align: top;\n",
       "    }\n",
       "\n",
       "    .dataframe thead th {\n",
       "        text-align: right;\n",
       "    }\n",
       "</style>\n",
       "<table border=\"1\" class=\"dataframe\">\n",
       "  <thead>\n",
       "    <tr style=\"text-align: right;\">\n",
       "      <th></th>\n",
       "      <th>Invoice</th>\n",
       "      <th>StockCode</th>\n",
       "      <th>Quantity</th>\n",
       "      <th>InvoiceDate</th>\n",
       "      <th>Price</th>\n",
       "      <th>CustomerID</th>\n",
       "      <th>Country</th>\n",
       "      <th>TotalAmount</th>\n",
       "      <th>StockCode</th>\n",
       "      <th>Description</th>\n",
       "    </tr>\n",
       "  </thead>\n",
       "  <tbody>\n",
       "    <tr>\n",
       "      <th>0</th>\n",
       "      <td>536365</td>\n",
       "      <td>85123A</td>\n",
       "      <td>6</td>\n",
       "      <td>2010-12-01 08:26:00</td>\n",
       "      <td>2.55</td>\n",
       "      <td>u1785</td>\n",
       "      <td>United Kingdom</td>\n",
       "      <td>15.30</td>\n",
       "      <td>85123A</td>\n",
       "      <td>CREAM HANGING HEART T-LIGHT HOLDER</td>\n",
       "    </tr>\n",
       "    <tr>\n",
       "      <th>1</th>\n",
       "      <td>536367</td>\n",
       "      <td>84879</td>\n",
       "      <td>32</td>\n",
       "      <td>2010-12-01 08:34:00</td>\n",
       "      <td>1.69</td>\n",
       "      <td>u13047</td>\n",
       "      <td>United Kingdom</td>\n",
       "      <td>54.08</td>\n",
       "      <td>84879</td>\n",
       "      <td>ASSORTED COLOUR BIRD ORNAMENT</td>\n",
       "    </tr>\n",
       "    <tr>\n",
       "      <th>2</th>\n",
       "      <td>536373</td>\n",
       "      <td>85123A</td>\n",
       "      <td>6</td>\n",
       "      <td>2010-12-01 09:02:00</td>\n",
       "      <td>2.55</td>\n",
       "      <td>u1785</td>\n",
       "      <td>United Kingdom</td>\n",
       "      <td>15.30</td>\n",
       "      <td>85123A</td>\n",
       "      <td>CREAM HANGING HEART T-LIGHT HOLDER</td>\n",
       "    </tr>\n",
       "    <tr>\n",
       "      <th>3</th>\n",
       "      <td>536375</td>\n",
       "      <td>85123A</td>\n",
       "      <td>6</td>\n",
       "      <td>2010-12-01 09:32:00</td>\n",
       "      <td>2.55</td>\n",
       "      <td>u1785</td>\n",
       "      <td>United Kingdom</td>\n",
       "      <td>15.30</td>\n",
       "      <td>85123A</td>\n",
       "      <td>CREAM HANGING HEART T-LIGHT HOLDER</td>\n",
       "    </tr>\n",
       "    <tr>\n",
       "      <th>4</th>\n",
       "      <td>536378</td>\n",
       "      <td>20725</td>\n",
       "      <td>10</td>\n",
       "      <td>2010-12-01 09:37:00</td>\n",
       "      <td>1.65</td>\n",
       "      <td>u14688</td>\n",
       "      <td>United Kingdom</td>\n",
       "      <td>16.50</td>\n",
       "      <td>20725</td>\n",
       "      <td>LUNCH BAG RED RETROSPOT</td>\n",
       "    </tr>\n",
       "  </tbody>\n",
       "</table>\n",
       "</div>"
      ],
      "text/plain": [
       "  Invoice StockCode  Quantity         InvoiceDate  Price CustomerID  \\\n",
       "0  536365    85123A         6 2010-12-01 08:26:00   2.55      u1785   \n",
       "1  536367     84879        32 2010-12-01 08:34:00   1.69     u13047   \n",
       "2  536373    85123A         6 2010-12-01 09:02:00   2.55      u1785   \n",
       "3  536375    85123A         6 2010-12-01 09:32:00   2.55      u1785   \n",
       "4  536378     20725        10 2010-12-01 09:37:00   1.65     u14688   \n",
       "\n",
       "          Country  TotalAmount StockCode                         Description  \n",
       "0  United Kingdom        15.30    85123A  CREAM HANGING HEART T-LIGHT HOLDER  \n",
       "1  United Kingdom        54.08     84879       ASSORTED COLOUR BIRD ORNAMENT  \n",
       "2  United Kingdom        15.30    85123A  CREAM HANGING HEART T-LIGHT HOLDER  \n",
       "3  United Kingdom        15.30    85123A  CREAM HANGING HEART T-LIGHT HOLDER  \n",
       "4  United Kingdom        16.50     20725             LUNCH BAG RED RETROSPOT  "
      ]
     },
     "execution_count": 34,
     "metadata": {},
     "output_type": "execute_result"
    }
   ],
   "source": [
    "# Preview the first five rows of the data.\n",
    "df_without_duplicates.head()\n"
   ]
  },
  {
   "cell_type": "markdown",
   "metadata": {},
   "source": [
    "# Load the dataset into a pickle file"
   ]
  },
  {
   "cell_type": "code",
   "execution_count": 35,
   "metadata": {},
   "outputs": [],
   "source": [
    "# Save the dataset as a pickle file named online_history_cleaned.pickle.\n",
    "df_without_duplicates.to_pickle('online_history_cleaned.pickle')\n"
   ]
  },
  {
   "cell_type": "code",
   "execution_count": 36,
   "metadata": {},
   "outputs": [],
   "source": [
    "# Close any connections to the database.\n",
    "\n",
    "conn.close()"
   ]
  },
  {
   "cell_type": "code",
   "execution_count": null,
   "metadata": {},
   "outputs": [],
   "source": []
  }
 ],
 "metadata": {
  "kernelspec": {
   "display_name": "Python 3",
   "language": "python",
   "name": "python3"
  },
  "language_info": {
   "codemirror_mode": {
    "name": "ipython",
    "version": 3
   },
   "file_extension": ".py",
   "mimetype": "text/x-python",
   "name": "python",
   "nbconvert_exporter": "python",
   "pygments_lexer": "ipython3",
   "version": "3.7.6"
  }
 },
 "nbformat": 4,
 "nbformat_minor": 4
}
